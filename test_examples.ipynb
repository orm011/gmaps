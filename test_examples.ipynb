{
 "cells": [
  {
   "cell_type": "code",
   "execution_count": 1,
   "metadata": {
    "collapsed": false
   },
   "outputs": [
    {
     "name": "stderr",
     "output_type": "stream",
     "text": [
      "Widget Javascript not detected.  It may not be installed properly. Did you enable the widgetsnbextension? If not, then run \"jupyter nbextension enable --py --sys-prefix widgetsnbextension\"\n"
     ]
    }
   ],
   "source": [
    "import gmaps\n",
    "api_key = open('/home/orm/.gapikey', 'r').readline().strip()\n",
    "gmaps.configure(api_key=api_key)\n",
    "\n",
    "LAT = 65.0\n",
    "pts_west = [[LAT, 170.0], [LAT, 175.0]]\n",
    "pts_east = [[LAT, -170.0], [LAT, -175.0]]\n",
    "\n",
    "m = gmaps.Map()\n",
    "m.add_layer(gmaps.symbol_layer(pts_east, fill_color=\"green\", stroke_color=\"green\"))\n",
    "m.add_layer(gmaps.symbol_layer(pts_west, fill_color=\"red\", stroke_color=\"red\"))\n",
    "m"
   ]
  },
  {
   "cell_type": "code",
   "execution_count": 2,
   "metadata": {
    "collapsed": false
   },
   "outputs": [
    {
     "name": "stderr",
     "output_type": "stream",
     "text": [
      "Widget Javascript not detected.  It may not be installed properly. Did you enable the widgetsnbextension? If not, then run \"jupyter nbextension enable --py --sys-prefix widgetsnbextension\"\n"
     ]
    }
   ],
   "source": [
    "LAT = 65.0\n",
    "pts_west = [[LAT, -96.0], [LAT, -86.0]]\n",
    "pts_east = [[LAT,  86.0], [LAT, 96.0]]\n",
    "\n",
    "\n",
    "m = gmaps.Map()\n",
    "m.add_layer(gmaps.symbol_layer(pts_east, fill_color=\"green\", stroke_color=\"green\"))\n",
    "m.add_layer(gmaps.symbol_layer(pts_west, fill_color=\"red\", stroke_color=\"red\"))\n",
    "m"
   ]
  },
  {
   "cell_type": "code",
   "execution_count": 6,
   "metadata": {
    "collapsed": false
   },
   "outputs": [],
   "source": [
    "LAT = 65.0\n",
    "pts_west = [[LAT, -94.0], [LAT, -84.0]]\n",
    "pts_east = [[LAT,  84.0], [LAT, 94.0]]\n",
    "\n",
    "\n",
    "m = gmaps.Map()\n",
    "m.add_layer(gmaps.symbol_layer(pts_east, fill_color=\"green\", stroke_color=\"green\"))\n",
    "m.add_layer(gmaps.symbol_layer(pts_west, fill_color=\"red\", stroke_color=\"red\"))\n",
    "m"
   ]
  }
 ],
 "metadata": {
  "kernelspec": {
   "display_name": "Python 2",
   "language": "python",
   "name": "python2"
  },
  "language_info": {
   "codemirror_mode": {
    "name": "ipython",
    "version": 2
   },
   "file_extension": ".py",
   "mimetype": "text/x-python",
   "name": "python",
   "nbconvert_exporter": "python",
   "pygments_lexer": "ipython2",
   "version": "2.7.12"
  },
  "widgets": {
   "state": {
    "1bb6076840b54767994cc579aabeab5e": {
     "views": [
      {
       "cell_index": 2
      }
     ]
    },
    "a37b87a3ccdd45b085a33f17232137c4": {
     "views": [
      {
       "cell_index": 1
      }
     ]
    },
    "abb991cad3a947c4a121f539fc681675": {
     "views": [
      {
       "cell_index": 0
      }
     ]
    }
   },
   "version": "1.2.0"
  }
 },
 "nbformat": 4,
 "nbformat_minor": 2
}
